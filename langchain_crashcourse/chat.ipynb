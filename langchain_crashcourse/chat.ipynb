{
 "cells": [
  {
   "cell_type": "markdown",
   "id": "956ff3a4",
   "metadata": {},
   "source": [
    "# Chat\n",
    "\n"
   ]
  },
  {
   "cell_type": "code",
   "execution_count": 1,
   "id": "521b63de",
   "metadata": {},
   "outputs": [],
   "source": [
    "import openai\n",
    "from secret_key import openapi_key\n",
    "import os \n",
    "os.environ['OPENAI_API_KEY'] = openapi_key\n"
   ]
  },
  {
   "cell_type": "code",
   "execution_count": 2,
   "id": "ab80dc86",
   "metadata": {},
   "outputs": [
    {
     "name": "stderr",
     "output_type": "stream",
     "text": [
      "d:\\IIA\\Tweet data and llm\\env\\lib\\site-packages\\langchain_core\\_api\\deprecation.py:117: LangChainDeprecationWarning: The class `langchain_community.embeddings.openai.OpenAIEmbeddings` was deprecated in langchain-community 0.1.0 and will be removed in 0.2.0. An updated version of the class exists in the langchain-openai package and should be used instead. To use it run `pip install -U langchain-openai` and import as `from langchain_openai import OpenAIEmbeddings`.\n",
      "  warn_deprecated(\n"
     ]
    }
   ],
   "source": [
    "from langchain.vectorstores import FAISS\n",
    "from langchain.embeddings.openai import OpenAIEmbeddings\n",
    "embd = OpenAIEmbeddings()\n",
    "vectordb = FAISS.load_local(\"docs/cs229_lecture1_faiss_index\",embd)"
   ]
  },
  {
   "cell_type": "code",
   "execution_count": 3,
   "id": "b7a409bf",
   "metadata": {},
   "outputs": [
    {
     "data": {
      "text/plain": [
       "3"
      ]
     },
     "execution_count": 3,
     "metadata": {},
     "output_type": "execute_result"
    }
   ],
   "source": [
    "question = \"What are major topics for this class?\"\n",
    "docs = vectordb.similarity_search(question,k=3)\n",
    "len(docs)"
   ]
  },
  {
   "cell_type": "code",
   "execution_count": 4,
   "id": "01c58c2b",
   "metadata": {},
   "outputs": [
    {
     "name": "stderr",
     "output_type": "stream",
     "text": [
      "d:\\IIA\\Tweet data and llm\\env\\lib\\site-packages\\langchain_core\\_api\\deprecation.py:117: LangChainDeprecationWarning: The class `langchain_community.chat_models.openai.ChatOpenAI` was deprecated in langchain-community 0.0.10 and will be removed in 0.2.0. An updated version of the class exists in the langchain-openai package and should be used instead. To use it run `pip install -U langchain-openai` and import as `from langchain_openai import ChatOpenAI`.\n",
      "  warn_deprecated(\n",
      "d:\\IIA\\Tweet data and llm\\env\\lib\\site-packages\\langchain_core\\_api\\deprecation.py:117: LangChainDeprecationWarning: The function `predict` was deprecated in LangChain 0.1.7 and will be removed in 0.2.0. Use invoke instead.\n",
      "  warn_deprecated(\n"
     ]
    },
    {
     "data": {
      "text/plain": [
       "'Hello! How can I assist you today?'"
      ]
     },
     "execution_count": 4,
     "metadata": {},
     "output_type": "execute_result"
    }
   ],
   "source": [
    "from langchain.chat_models import ChatOpenAI\n",
    "llm = ChatOpenAI(model_name=\"gpt-3.5-turbo\", temperature=0)\n",
    "llm.predict(\"Hello world!\")"
   ]
  },
  {
   "cell_type": "code",
   "execution_count": 5,
   "id": "3dc11bea",
   "metadata": {},
   "outputs": [
    {
     "name": "stderr",
     "output_type": "stream",
     "text": [
      "d:\\IIA\\Tweet data and llm\\env\\lib\\site-packages\\langchain_core\\_api\\deprecation.py:117: LangChainDeprecationWarning: The function `run` was deprecated in LangChain 0.1.0 and will be removed in 0.2.0. Use invoke instead.\n",
      "  warn_deprecated(\n",
      "Retrying langchain_community.chat_models.openai.ChatOpenAI.completion_with_retry.<locals>._completion_with_retry in 4.0 seconds as it raised RateLimitError: Rate limit reached for gpt-3.5-turbo in organization org-GBzolOmzUHWBjRNhBNkzVVS1 on requests per min (RPM): Limit 3, Used 3, Requested 1. Please try again in 20s. Visit https://platform.openai.com/account/rate-limits to learn more. You can increase your rate limit by adding a payment method to your account at https://platform.openai.com/account/billing..\n"
     ]
    },
    {
     "data": {
      "text/plain": [
       "'The major topics covered in this class are supervised learning, learning theory, and machine learning.'"
      ]
     },
     "execution_count": 5,
     "metadata": {},
     "output_type": "execute_result"
    }
   ],
   "source": [
    "from langchain.chains import RetrievalQA\n",
    "qa_chain = RetrievalQA.from_chain_type(llm,retriever=vectordb.as_retriever())\n",
    "qa_chain.run(question)"
   ]
  },
  {
   "cell_type": "code",
   "execution_count": 6,
   "id": "7e99e754",
   "metadata": {},
   "outputs": [],
   "source": [
    "from langchain.memory import ConversationBufferMemory\n",
    "memory = ConversationBufferMemory(memory_key=\"chat_history\", return_messages=True)"
   ]
  },
  {
   "cell_type": "code",
   "execution_count": 7,
   "id": "23700502",
   "metadata": {},
   "outputs": [],
   "source": [
    "from langchain.chains import ConversationalRetrievalChain\n",
    "qa = ConversationalRetrievalChain.from_llm(llm,retriever=vectordb.as_retriever(),memory=memory)"
   ]
  },
  {
   "cell_type": "code",
   "execution_count": 9,
   "id": "e25b9fbb",
   "metadata": {},
   "outputs": [],
   "source": [
    "question = \"What did Professor Ng say about the class topics?\"\n",
    "result = qa({\"question\": question})"
   ]
  },
  {
   "cell_type": "code",
   "execution_count": 10,
   "id": "622478ba",
   "metadata": {
    "scrolled": true
   },
   "outputs": [
    {
     "data": {
      "text/plain": [
       "{'question': 'What did Professor Ng say about the class topics?',\n",
       " 'chat_history': [HumanMessage(content='What did Professor Ng say about the class topics?'),\n",
       "  AIMessage(content='Professor Ng mentioned that he would be going over the logistics of the class and then start talking about machine learning. He expressed his excitement about teaching the class and shared his belief that machine learning is the most exciting field in computer science and possibly in all of human endeavor.')],\n",
       " 'answer': 'Professor Ng mentioned that he would be going over the logistics of the class and then start talking about machine learning. He expressed his excitement about teaching the class and shared his belief that machine learning is the most exciting field in computer science and possibly in all of human endeavor.'}"
      ]
     },
     "execution_count": 10,
     "metadata": {},
     "output_type": "execute_result"
    }
   ],
   "source": [
    "result"
   ]
  },
  {
   "cell_type": "code",
   "execution_count": 14,
   "id": "5b280672",
   "metadata": {},
   "outputs": [
    {
     "data": {
      "text/plain": [
       "{'question': 'What did he say about the class prerequisites?',\n",
       " 'chat_history': [HumanMessage(content='What did Professor Ng say about the class topics?'),\n",
       "  AIMessage(content='Professor Ng mentioned that he would be going over the logistics of the class and then start talking about machine learning. He expressed his excitement about teaching the class and shared his belief that machine learning is the most exciting field in computer science and possibly in all of human endeavor.'),\n",
       "  HumanMessage(content='What did he say about the class prerequisites?'),\n",
       "  AIMessage(content='Professor Ng mentioned the following prerequisites for the class:\\n1. Understanding of big-O notation.\\n2. Knowledge of data structures like linked lists, queues, and binary trees.\\n3. Familiarity with basic probability and statistics, including random variables, expectations, variances, etc.\\n4. Familiarity with basic linear algebra, including matrices, vectors, matrix multiplication, matrix inverse, and eigenvectors.')],\n",
       " 'answer': 'Professor Ng mentioned the following prerequisites for the class:\\n1. Understanding of big-O notation.\\n2. Knowledge of data structures like linked lists, queues, and binary trees.\\n3. Familiarity with basic probability and statistics, including random variables, expectations, variances, etc.\\n4. Familiarity with basic linear algebra, including matrices, vectors, matrix multiplication, matrix inverse, and eigenvectors.'}"
      ]
     },
     "execution_count": 14,
     "metadata": {},
     "output_type": "execute_result"
    }
   ],
   "source": [
    "question = \"What did he say about the class prerequisites?\"\n",
    "qa({\"question\": question})"
   ]
  },
  {
   "cell_type": "code",
   "execution_count": 15,
   "id": "90b012fb",
   "metadata": {},
   "outputs": [],
   "source": [
    "qa_new_prompt = ConversationalRetrievalChain.from_llm(llm,retriever=vectordb.as_retriever(),memory=memory)"
   ]
  },
  {
   "cell_type": "code",
   "execution_count": 18,
   "id": "56786d63",
   "metadata": {},
   "outputs": [
    {
     "data": {
      "text/plain": [
       "{'question': 'What did he say about the class prerequisites?',\n",
       " 'chat_history': [HumanMessage(content='What did Professor Ng say about the class topics?'),\n",
       "  AIMessage(content='Professor Ng mentioned that he would be going over the logistics of the class and then start talking about machine learning. He expressed his excitement about teaching the class and shared his belief that machine learning is the most exciting field in computer science and possibly in all of human endeavor.'),\n",
       "  HumanMessage(content='What did he say about the class prerequisites?'),\n",
       "  AIMessage(content='Professor Ng mentioned the following prerequisites for the class:\\n1. Understanding of big-O notation.\\n2. Knowledge of data structures like linked lists, queues, and binary trees.\\n3. Familiarity with basic probability and statistics, including random variables, expectations, variances, etc.\\n4. Familiarity with basic linear algebra, including matrices, vectors, matrix multiplication, matrix inverse, and eigenvectors.'),\n",
       "  HumanMessage(content='What did he say about the class prerequisites?'),\n",
       "  AIMessage(content='The prerequisites for the class according to Professor Ng are:\\n1. Basic knowledge of computer science and computer skills.\\n2. Understanding of big-O notation and data structures like queues, stacks, and binary trees.\\n3. Sufficient programming skills to write a simple computer program.\\n4. Familiarity with basic probability and statistics, including concepts like random variables, expectation, variance, and random variables.')],\n",
       " 'answer': 'The prerequisites for the class according to Professor Ng are:\\n1. Basic knowledge of computer science and computer skills.\\n2. Understanding of big-O notation and data structures like queues, stacks, and binary trees.\\n3. Sufficient programming skills to write a simple computer program.\\n4. Familiarity with basic probability and statistics, including concepts like random variables, expectation, variance, and random variables.'}"
      ]
     },
     "execution_count": 18,
     "metadata": {},
     "output_type": "execute_result"
    }
   ],
   "source": [
    "question = \"What did he say about the class prerequisites?\"\n",
    "qa_new_prompt({\"question\": question})"
   ]
  },
  {
   "cell_type": "code",
   "execution_count": null,
   "id": "6e818e75",
   "metadata": {},
   "outputs": [],
   "source": []
  }
 ],
 "metadata": {
  "kernelspec": {
   "display_name": "Python 3 (ipykernel)",
   "language": "python",
   "name": "python3"
  },
  "language_info": {
   "codemirror_mode": {
    "name": "ipython",
    "version": 3
   },
   "file_extension": ".py",
   "mimetype": "text/x-python",
   "name": "python",
   "nbconvert_exporter": "python",
   "pygments_lexer": "ipython3",
   "version": "3.10.11"
  }
 },
 "nbformat": 4,
 "nbformat_minor": 5
}
