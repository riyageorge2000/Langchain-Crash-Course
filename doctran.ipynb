{
 "cells": [
  {
   "cell_type": "code",
   "execution_count": 1,
   "metadata": {},
   "outputs": [],
   "source": [
    "# !pip install doctran\n",
    "# !pip install langchain"
   ]
  },
  {
   "cell_type": "code",
   "execution_count": 2,
   "metadata": {},
   "outputs": [],
   "source": [
    "import os\n",
    "import warnings\n",
    "warnings.filterwarnings(\"ignore\")\n",
    "from secret_key import openapi_key\n",
    "\n",
    "os.environ['OPENAI_API_KEY'] = openapi_key\n",
    "# from dotenv import load_dotenv\n",
    "# load_dotenv()"
   ]
  },
  {
   "cell_type": "code",
   "execution_count": 3,
   "metadata": {},
   "outputs": [],
   "source": [
    "from langchain.schema import Document\n",
    "import json"
   ]
  },
  {
   "cell_type": "code",
   "execution_count": 4,
   "metadata": {},
   "outputs": [],
   "source": [
    "complaint_email_content = \"\"\"\n",
    "Dear Mustang Motors Team,\n",
    "\n",
    "I'm writing to express my dissatisfaction with a recent car purchase (Mustang GT). Regrettably, the car hasn't lived up to my expectations, and I would like to request a refund.\n",
    "\n",
    "The car's functionality and performance have not matched the quality advertised through your marketing initiatives and previous customer testimonials. The innovative design and features, as touted by your R&D department, seem inconsistent with the actual vehicle.\n",
    "\n",
    "Could you please guide me through the refund process? I trust in your ability to resolve this issue promptly and satisfactorily.\n",
    "\n",
    "Thank you for your attention to this matter.\n",
    "\n",
    "Best regards,\n",
    "\n",
    "Max Müller\n",
    "\"\"\""
   ]
  },
  {
   "cell_type": "code",
   "execution_count": 5,
   "metadata": {},
   "outputs": [],
   "source": [
    "from langchain.document_transformers import DoctranPropertyExtractor\n",
    "\n",
    "documents = [Document(page_content=complaint_email_content)]\n",
    "properties = [\n",
    "    {\n",
    "        \"name\": \"category\",\n",
    "        \"description\": \"The type of email this is.\",\n",
    "        \"type\": \"string\",\n",
    "        \"enum\": [\"complaint\", \"refund_request\", \"product_feedback\", \"customer_service\", \"other\"],\n",
    "        \"required\": True,\n",
    "    },\n",
    "    {\n",
    "        \"name\": \"mentioned_product\",\n",
    "        \"description\": \"The product mentioned in this email.\",\n",
    "        \"type\": \"string\",\n",
    "        \"required\": True,\n",
    "    },\n",
    "    {\n",
    "        \"name\": \"issue_description\",\n",
    "        \"description\": \"A brief explanation of the problem encountered with the product.\",\n",
    "        \"type\": \"string\",\n",
    "        \"required\": True,\n",
    "    }\n",
    "]\n",
    "property_extractor = DoctranPropertyExtractor(properties=properties, openai_api_model=\"gpt-3.5-turbo\")\n"
   ]
  },
  {
   "cell_type": "code",
   "execution_count": 6,
   "metadata": {},
   "outputs": [
    {
     "name": "stdout",
     "output_type": "stream",
     "text": [
      "{\n",
      "  \"extracted_properties\": {\n",
      "    \"category\": \"refund_request\",\n",
      "    \"mentioned_product\": \"Mustang GT\",\n",
      "    \"issue_description\": \"The car's functionality and performance have not matched the quality advertised through marketing initiatives and previous customer testimonials. The innovative design and features seem inconsistent with the actual vehicle.\"\n",
      "  }\n",
      "}\n"
     ]
    }
   ],
   "source": [
    "extracted_document = await property_extractor.atransform_documents(\n",
    "    documents, properties=properties\n",
    ")\n",
    "print(json.dumps(extracted_document[0].metadata, indent=2))"
   ]
  },
  {
   "cell_type": "code",
   "execution_count": 7,
   "metadata": {},
   "outputs": [],
   "source": [
    "from langchain.schema import Document\n",
    "from langchain.document_transformers import DoctranQATransformer\n"
   ]
  },
  {
   "cell_type": "code",
   "execution_count": 11,
   "metadata": {},
   "outputs": [],
   "source": [
    "documents = [Document(page_content=complaint_email_content)]\n",
    "qa_transformer = DoctranQATransformer(openai_api_model=\"gpt-3.5-turbo\")\n",
    "transformed_document = qa_transformer.transform_documents(documents)\n"
   ]
  },
  {
   "cell_type": "code",
   "execution_count": 12,
   "metadata": {},
   "outputs": [
    {
     "name": "stdout",
     "output_type": "stream",
     "text": [
      "{\n",
      "  \"questions_and_answers\": [\n",
      "    {\n",
      "      \"question\": \"What is the reason for your dissatisfaction with the car purchase?\",\n",
      "      \"answer\": \"The car hasn't lived up to my expectations in terms of functionality and performance.\"\n",
      "    },\n",
      "    {\n",
      "      \"question\": \"What specific aspects of the car's functionality and performance are not meeting your expectations?\",\n",
      "      \"answer\": \"The innovative design and features advertised do not align with the actual vehicle.\"\n",
      "    },\n",
      "    {\n",
      "      \"question\": \"What action are you requesting from Mustang Motors?\",\n",
      "      \"answer\": \"I would like to request a refund for the car purchase.\"\n",
      "    },\n",
      "    {\n",
      "      \"question\": \"What is your name?\",\n",
      "      \"answer\": \"Max M\\u00fcller\"\n",
      "    }\n",
      "  ]\n",
      "}\n"
     ]
    }
   ],
   "source": [
    "print(json.dumps(transformed_document[0].metadata, indent=2))"
   ]
  },
  {
   "cell_type": "code",
   "execution_count": 13,
   "metadata": {},
   "outputs": [],
   "source": [
    "from langchain.document_transformers import DoctranTextTranslator"
   ]
  },
  {
   "cell_type": "code",
   "execution_count": 20,
   "metadata": {},
   "outputs": [],
   "source": [
    "documents = [Document(page_content=complaint_email_content)]\n",
    "qa_translator = DoctranTextTranslator(language=\"german\", openai_api_model=\"gpt-3.5-turbo\")"
   ]
  },
  {
   "cell_type": "code",
   "execution_count": 21,
   "metadata": {},
   "outputs": [
    {
     "name": "stdout",
     "output_type": "stream",
     "text": [
      "Sehr geehrtes Team von Mustang Motors,\n",
      "\n",
      "ich schreibe, um meine Unzufriedenheit mit einem kürzlich getätigten Autokauf (Mustang GT) zum Ausdruck zu bringen. Bedauerlicherweise hat das Auto meine Erwartungen nicht erfüllt, und ich möchte eine Rückerstattung beantragen.\n",
      "\n",
      "Die Funktionalität und Leistung des Autos entsprechen nicht der Qualität, die durch Ihre Marketinginitiativen und frühere Kundenreferenzen beworben wurde. Das innovative Design und die Funktionen, wie sie von Ihrer Forschungs- und Entwicklungsabteilung angepriesen wurden, scheinen nicht mit dem tatsächlichen Fahrzeug übereinzustimmen.\n",
      "\n",
      "Könnten Sie mich bitte durch den Rückerstattungsprozess führen? Ich vertraue darauf, dass Sie in der Lage sind, dieses Problem schnell und zufriedenstellend zu lösen.\n",
      "\n",
      "Vielen Dank für Ihre Aufmerksamkeit in dieser Angelegenheit.\n",
      "\n",
      "Mit freundlichen Grüßen,\n",
      "Max Müller\n"
     ]
    }
   ],
   "source": [
    "translated_document = qa_translator.transform_documents(documents)\n",
    "print(translated_document[0].page_content)"
   ]
  },
  {
   "cell_type": "code",
   "execution_count": 18,
   "metadata": {},
   "outputs": [],
   "source": [
    "documents = [Document(page_content=complaint_email_content)]\n",
    "qa_translator = DoctranTextTranslator(language=\"malayalam\", openai_api_model=\"gpt-3.5-turbo\")"
   ]
  },
  {
   "cell_type": "code",
   "execution_count": 19,
   "metadata": {},
   "outputs": [
    {
     "name": "stdout",
     "output_type": "stream",
     "text": [
      "ദയവായി മസ്താംഗ് മോട്ടോഴ്സ് ടീംക്ക്,\n",
      "\n",
      "ഞാൻ ഒരു സമീപകാല കാർ വാങ്ങിയതിനു പുനഃപ്രതീക്ഷിച്ചില്ല (മസ്താംഗ് ജിടി). ദു:ഖംപൂർവ്വം, കാർ എന്റെ പ്രതീക്ഷകളെ പൂർത്തിയാക്കാനായില്ല, എനിക്ക് ഒരു പരിപ്പുക്കേട് അഭ്യർഥിക്കാൻ ഇഷ്ടമാണ്.\n",
      "\n",
      "നിങ്ങളുടെ മാർക്കറ്റിംഗ് പ്രവർത്തനങ്ങളും മുന്നറിയിപ്പുകളും മൂലം പ്രചാരിച്ച ഗുണമായ ഗുണത്തെ കാർക്ക് അനുസരിച്ചില്ല. നിങ്ങളുടെ ആർ & ഡി വിഭാഗം പ്രചാരിച്ച പ്രവണതകൾക്കുള്ളിൽ പ്രവർത്തനം ചെയ്യുന്ന സാധനങ്ങൾ ഒരുപാട് വാസ്തവ വാഹനത്തോട് അസമര്\n",
      "\n",
      "ദ്ധമായി തോല്പിച്ചില്ല.\n",
      "\n",
      "ദയവായി എനിക്ക് പരിപ്പുക്കേട് പ്രക്രിയയിൽ മാർഗദര്\n",
      "\n",
      "ശനിക്കാരികളായി ഈ പ്രശ്നം ശീഘ്രമായിയും സംതുഷ്ടമായി പരിഹരിക്കാൻ നിങ്ങളുടെ സാമര്\n",
      "\n",
      "ഥ്യത്തിൽ വിശ്വസിക്കുന്നു.\n",
      "\n",
      "ഈ വിഷയത്തിന് നിങ്ങളുടെ ശ്രദ്ധയ്ക്കായി നന്ദി.\n",
      "\n",
      "മികച്ച ആശംസകൾ,\n",
      "\n",
      "മാക്സ് മുല്ലർ\n"
     ]
    }
   ],
   "source": [
    "translated_document = qa_translator.transform_documents(documents)\n",
    "print(translated_document[0].page_content)"
   ]
  },
  {
   "cell_type": "code",
   "execution_count": null,
   "metadata": {},
   "outputs": [],
   "source": []
  }
 ],
 "metadata": {
  "kernelspec": {
   "display_name": "Python 3",
   "language": "python",
   "name": "python3"
  },
  "language_info": {
   "codemirror_mode": {
    "name": "ipython",
    "version": 3
   },
   "file_extension": ".py",
   "mimetype": "text/x-python",
   "name": "python",
   "nbconvert_exporter": "python",
   "pygments_lexer": "ipython3",
   "version": "3.10.11"
  },
  "orig_nbformat": 4
 },
 "nbformat": 4,
 "nbformat_minor": 2
}
