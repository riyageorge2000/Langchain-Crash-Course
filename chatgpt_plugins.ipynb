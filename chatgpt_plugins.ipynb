{
 "cells": [
  {
   "cell_type": "code",
   "execution_count": 1,
   "metadata": {},
   "outputs": [],
   "source": [
    "import os\n",
    "from secret_key import openapi_key\n",
    "\n",
    "os.environ['OPENAI_API_KEY'] = openapi_key\n"
   ]
  },
  {
   "cell_type": "code",
   "execution_count": 2,
   "metadata": {},
   "outputs": [],
   "source": [
    "from langchain.chat_models import ChatOpenAI\n",
    "from langchain.agents import load_tools, initialize_agent\n",
    "from langchain.agents import AgentType\n",
    "from langchain.tools import AIPluginTool"
   ]
  },
  {
   "attachments": {},
   "cell_type": "markdown",
   "metadata": {},
   "source": [
    "Read the ai-plugin.json to get information of how to use the API and what output to expect"
   ]
  },
  {
   "cell_type": "code",
   "execution_count": 3,
   "metadata": {},
   "outputs": [],
   "source": [
    "tool = AIPluginTool.from_plugin_url(\"https://www.klarna.com/.well-known/ai-plugin.json\")"
   ]
  },
  {
   "cell_type": "code",
   "execution_count": 6,
   "metadata": {},
   "outputs": [],
   "source": [
    "llm = ChatOpenAI(temperature=0)\n",
    "tools = load_tools([\"requests_all\"])\n",
    "tools += [tool]\n",
    "\n",
    "agent_chain = initialize_agent(\n",
    "    tools, llm, agent=AgentType.ZERO_SHOT_REACT_DESCRIPTION, verbose=True, handle_parsing_errors=True\n",
    ")\n"
   ]
  },
  {
   "cell_type": "code",
   "execution_count": 11,
   "metadata": {},
   "outputs": [
    {
     "name": "stdout",
     "output_type": "stream",
     "text": [
      "\n",
      "\n",
      "\u001b[1m> Entering new AgentExecutor chain...\u001b[0m\n",
      "\u001b[32;1m\u001b[1;3mI should use the KlarnaProducts tool to get the OpenAPI spec for interacting with the Klarna Shopping API.\n",
      "Action: KlarnaProducts\n",
      "Action Input: \u001b[0m\n",
      "Observation: \u001b[38;5;200m\u001b[1;3mUsage Guide: Assistant uses the Klarna plugin to get relevant product suggestions for any shopping or product discovery purpose. Assistant will reply with the following 3 paragraphs 1) Search Results 2) Product Comparison of the Search Results 3) Followup Questions. The first paragraph contains a list of the products with their attributes listed clearly and concisely as bullet points under the product, together with a link to the product and an explanation. Links will always be returned and should be shown to the user. The second paragraph compares the results returned in a summary sentence starting with \"In summary\". Assistant comparisons consider only the most important features of the products that will help them fit the users request, and each product mention is brief, short and concise. In the third paragraph assistant always asks helpful follow-up questions and end with a question mark. When assistant is asking a follow-up question, it uses it's product expertise to provide information pertaining to the subject of the user's request that may guide them in their search for the right product.\n",
      "\n",
      "OpenAPI Spec: {'openapi': '3.0.1', 'info': {'version': 'v0', 'title': 'Open AI Klarna product Api'}, 'servers': [{'url': 'https://www.klarna.com/us/shopping'}], 'tags': [{'name': 'open-ai-product-endpoint', 'description': 'Open AI Product Endpoint. Query for products.'}], 'paths': {'/public/openai/v0/products': {'get': {'tags': ['open-ai-product-endpoint'], 'summary': 'API for fetching Klarna product information', 'operationId': 'productsUsingGET', 'parameters': [{'name': 'countryCode', 'in': 'query', 'description': 'ISO 3166 country code with 2 characters based on the user location. Currently, only US, GB, DE, SE and DK are supported.', 'required': True, 'schema': {'type': 'string'}}, {'name': 'q', 'in': 'query', 'description': \"A precise query that matches one very small category or product that needs to be searched for to find the products the user is looking for. If the user explicitly stated what they want, use that as a query. The query is as specific as possible to the product name or category mentioned by the user in its singular form, and don't contain any clarifiers like latest, newest, cheapest, budget, premium, expensive or similar. The query is always taken from the latest topic, if there is a new topic a new query is started. If the user speaks another language than English, translate their request into English (example: translate fia med knuff to ludo board game)!\", 'required': True, 'schema': {'type': 'string'}}, {'name': 'size', 'in': 'query', 'description': 'number of products returned', 'required': False, 'schema': {'type': 'integer'}}, {'name': 'min_price', 'in': 'query', 'description': \"(Optional) Minimum price in local currency for the product searched for. Either explicitly stated by the user or implicitly inferred from a combination of the user's request and the kind of product searched for.\", 'required': False, 'schema': {'type': 'integer'}}, {'name': 'max_price', 'in': 'query', 'description': \"(Optional) Maximum price in local currency for the product searched for. Either explicitly stated by the user or implicitly inferred from a combination of the user's request and the kind of product searched for.\", 'required': False, 'schema': {'type': 'integer'}}], 'responses': {'200': {'description': 'Products found', 'content': {'application/json': {'schema': {'$ref': '#/components/schemas/ProductResponse'}}}}, '503': {'description': 'one or more services are unavailable'}}, 'deprecated': False}}}, 'components': {'schemas': {'Product': {'type': 'object', 'properties': {'attributes': {'type': 'array', 'items': {'type': 'string'}}, 'name': {'type': 'string'}, 'price': {'type': 'string'}, 'url': {'type': 'string'}}, 'title': 'Product'}, 'ProductResponse': {'type': 'object', 'properties': {'products': {'type': 'array', 'items': {'$ref': '#/components/schemas/Product'}}}, 'title': 'ProductResponse'}}}}\u001b[0m\n",
      "Thought:\u001b[32;1m\u001b[1;3mI should use the GET request to fetch the available shirts from Klarna.\n",
      "Action: requests_get\n",
      "Action Input: https://www.klarna.com/us/shopping/public/openai/v0/products?countryCode=US&q=shirts&size=10\u001b[0m\n",
      "Observation: \u001b[36;1m\u001b[1;3m{\"products\":[{\"name\":\"KingSize Big & Tall Long Sleeve Wrinkle Free Sport Shirt - Midnight Navy Plaid\",\"url\":\"https://www.klarna.com/us/shopping/pl/cl10001/3206898879/Clothing/KingSize-Big-Tall-Long-Sleeve-Wrinkle-Free-Sport-Shirt-Midnight-Navy-Plaid/?utm_source=openai&ref-site=openai_plugin\",\"price\":\"$49.99\",\"attributes\":[\"Material:Polyester,Cotton\",\"Target Group:Man\",\"Color:Blue\",\"Pattern:Checkered\",\"Size (Small-Large):XL,3XL,4XL,5XL,6XL,L,XXL\"]},{\"name\":\"Burberry Beige Vintage Check Shirt\",\"url\":\"https://www.klarna.com/us/shopping/pl/cl10001/3217981476/Clothing/Burberry-Beige-Vintage-Check-Shirt/?utm_source=openai&ref-site=openai_plugin\",\"price\":\"$437.26\",\"attributes\":[\"Material:Cotton\",\"Target Group:Man\",\"Color:Brown\",\"Pattern:Checkered\",\"Size (Small-Large):S,XL,XS,L,M\"]},{\"name\":\"Burberry Check Stretch Poplin Shirt - Archive Beige\",\"url\":\"https://www.klarna.com/us/shopping/pl/cl10001/3201826487/Clothing/Burberry-Check-Stretch-Poplin-Shirt-Archive-Beige/?utm_source=openai&ref-site=openai_plugin\",\"price\":\"$346.00\",\"attributes\":[\"Material:Elastane/Lycra/Spandex,Cotton\",\"Size (Small-Large):S,XL,3XL,XS,L,M,XXL\",\"Target Group:Man\",\"Color:Beige\",\"Pattern:Checkered\"]},{\"name\":\"Prada Triangle Logo Full-Zip Denim Shirt - Grey\",\"url\":\"https://www.klarna.com/us/shopping/pl/cl10001/3214702163/Clothing/Prada-Triangle-Logo-Full-Zip-Denim-Shirt-Grey/?utm_source=openai&ref-site=openai_plugin\",\"price\":\"$2300.00\",\"attributes\":[\"Material:Denim\",\"Target Group:Man\",\"Color:Gray\",\"Size (Small-Large):S,XL,L,M,XXL\"]},{\"name\":\"Ariat Men's Long-Sleeve Team Logo Twill Classic Fit Western Shirt\",\"url\":\"https://www.klarna.com/us/shopping/pl/cl10001/3207730819/Clothing/Ariat-Men-s-Long-Sleeve-Team-Logo-Twill-Classic-Fit-Western-Shirt/?utm_source=openai&ref-site=openai_plugin\",\"price\":\"$69.95\",\"attributes\":[\"Material:Cotton\",\"Target Group:Man\",\"Color:Black\",\"Size (Small-Large):S,XL,L,M,XXL\"]},{\"name\":\"Dickies Long-Sleeve Work Shirt for Men\",\"url\":\"https://www.klarna.com/us/shopping/pl/cl10001/3201948180/Clothing/Dickies-Long-Sleeve-Work-Shirt-for-Men/?utm_source=openai&ref-site=openai_plugin\",\"price\":\"$14.99\",\"attributes\":[\"Material:Cotton\",\"Target Group:Man\",\"Size (Small-Large):S,XL,L,M,XXL\"]},{\"name\":\"Columbia Tamiami II Short-Sleeve Shirt - Vivid Blue\",\"url\":\"https://www.klarna.com/us/shopping/pl/cl10001/3201755913/Clothing/Columbia-Tamiami-II-Short-Sleeve-Shirt-Vivid-Blue/?utm_source=openai&ref-site=openai_plugin\",\"price\":\"$29.52\",\"attributes\":[\"Material:Polyester\",\"Target Group:Man\",\"Color:Blue\",\"Size (Small-Large):S,XL,XS,L,M,XXL\"]},{\"name\":\"Polo Ralph Lauren Classic Fit Gingham Oxford Shirt PINK/WHITE\",\"url\":\"https://www.klarna.com/us/shopping/pl/cl10001/3208321042/Clothing/Polo-Ralph-Lauren-Classic-Fit-Gingham-Oxford-Shirt-PINK-WHITE/?utm_source=openai&ref-site=openai_plugin\",\"price\":\"$125.00\",\"attributes\":[\"Target Group:Man\",\"Color:White\",\"Size (Small-Large):S,XL,XS,L,M,XXL\"]},{\"name\":\"Columbia Men's Tamiami II SS Shirt Gulf Stream Gulf Stream\",\"url\":\"https://www.klarna.com/us/shopping/pl/cl10001/3202057626/Clothing/Columbia-Men-s-Tamiami-II-SS-Shirt-Gulf-Stream-Gulf-Stream/?utm_source=openai&ref-site=openai_plugin\",\"price\":\"$28.95\",\"attributes\":[\"Target Group:Man\",\"Color:Blue,Yellow\",\"Size (Small-Large):S,L,M\"]},{\"name\":\"Columbia Tamiami II Short-Sleeve Shirt - Black\",\"url\":\"https://www.klarna.com/us/shopping/pl/cl10001/3201755911/Clothing/Columbia-Tamiami-II-Short-Sleeve-Shirt-Black/?utm_source=openai&ref-site=openai_plugin\",\"price\":\"$33.66\",\"attributes\":[\"Material:Polyester\",\"Target Group:Man\",\"Color:Black\",\"Size (Small-Large):S,XL,XS,L,M,XXL\"]}]}\u001b[0m\n",
      "Thought:\u001b[32;1m\u001b[1;3mI have successfully retrieved the available shirts from Klarna.\n",
      "Final Answer: The available shirts in Klarna are KingSize Big & Tall Long Sleeve Wrinkle Free Sport Shirt, Burberry Beige Vintage Check Shirt, Burberry Check Stretch Poplin Shirt, Prada Triangle Logo Full-Zip Denim Shirt, Ariat Men's Long-Sleeve Team Logo Twill Classic Fit Western Shirt, Dickies Long-Sleeve Work Shirt for Men, Columbia Tamiami II Short-Sleeve Shirt, Polo Ralph Lauren Classic Fit Gingham Oxford Shirt, Columbia Men's Tamiami II SS Shirt Gulf Stream Gulf Stream, and Columbia Tamiami II Short-Sleeve Shirt.\u001b[0m\n",
      "\n",
      "\u001b[1m> Finished chain.\u001b[0m\n"
     ]
    },
    {
     "data": {
      "text/plain": [
       "\"The available shirts in Klarna are KingSize Big & Tall Long Sleeve Wrinkle Free Sport Shirt, Burberry Beige Vintage Check Shirt, Burberry Check Stretch Poplin Shirt, Prada Triangle Logo Full-Zip Denim Shirt, Ariat Men's Long-Sleeve Team Logo Twill Classic Fit Western Shirt, Dickies Long-Sleeve Work Shirt for Men, Columbia Tamiami II Short-Sleeve Shirt, Polo Ralph Lauren Classic Fit Gingham Oxford Shirt, Columbia Men's Tamiami II SS Shirt Gulf Stream Gulf Stream, and Columbia Tamiami II Short-Sleeve Shirt.\""
      ]
     },
     "execution_count": 11,
     "metadata": {},
     "output_type": "execute_result"
    }
   ],
   "source": [
    "agent_chain.run(\"which shirts are available in klarna?\")"
   ]
  },
  {
   "cell_type": "code",
   "execution_count": null,
   "metadata": {},
   "outputs": [],
   "source": []
  }
 ],
 "metadata": {
  "kernelspec": {
   "display_name": "autogpt",
   "language": "python",
   "name": "python3"
  },
  "language_info": {
   "codemirror_mode": {
    "name": "ipython",
    "version": 3
   },
   "file_extension": ".py",
   "mimetype": "text/x-python",
   "name": "python",
   "nbconvert_exporter": "python",
   "pygments_lexer": "ipython3",
   "version": "3.10.11"
  }
 },
 "nbformat": 4,
 "nbformat_minor": 2
}
